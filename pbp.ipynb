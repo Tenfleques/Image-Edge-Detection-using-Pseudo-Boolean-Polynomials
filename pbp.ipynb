{
 "cells": [
  {
   "cell_type": "code",
   "execution_count": 42,
   "metadata": {},
   "outputs": [],
   "source": [
    "import numpy as np\n",
    "import logging\n",
    "import sys\n",
    "from bitarray import bitarray, frozenbitarray\n",
    "from bitarray.util import ba2int, int2ba\n",
    "import pandas as pd\n",
    "\n",
    "\n",
    "\n",
    "BIT_ORDER=\"little\"\n",
    "logging.basicConfig(format='%(message)s', datefmt='%m/%d/%Y %I:%M:%S %p', level=logging.DEBUG )\n",
    "logger = logging.getLogger()\n",
    "\n",
    "np.set_printoptions(threshold=sys.maxsize)\n"
   ]
  },
  {
   "cell_type": "markdown",
   "metadata": {},
   "source": [
    "Function to encode the binary variables"
   ]
  },
  {
   "cell_type": "code",
   "execution_count": 43,
   "metadata": {},
   "outputs": [],
   "source": [
    "def bin_encoder(v, l):\n",
    "    y = bitarray(l, endian=BIT_ORDER)\n",
    "    y[v] = 1\n",
    "    return ba2int(y)"
   ]
  },
  {
   "cell_type": "markdown",
   "metadata": {},
   "source": [
    "Function to create П matrix"
   ]
  },
  {
   "cell_type": "code",
   "execution_count": 44,
   "metadata": {},
   "outputs": [],
   "source": [
    "def create_perm(C: np.array):\n",
    "    perm = C.argsort(kind='quick', axis=0)\n",
    "    return perm\n"
   ]
  },
  {
   "cell_type": "code",
   "execution_count": 45,
   "metadata": {},
   "outputs": [],
   "source": [
    "def calculate_degree(y):\n",
    "    y_bin = int2ba(y, endian=BIT_ORDER)\n",
    "    degree = y_bin.count()\n",
    "    return degree"
   ]
  },
  {
   "cell_type": "markdown",
   "metadata": {},
   "source": [
    "Function to create the coefficients using the П matrix"
   ]
  },
  {
   "cell_type": "code",
   "execution_count": 46,
   "metadata": {},
   "outputs": [],
   "source": [
    "def create_coeffs_matrix(C: np.array, perm: np.array, **kwargs):\n",
    "    sorted_c = np.take_along_axis(C, perm, axis=0)\n",
    "    zs = np.zeros((sorted_c.shape[1],), dtype=sorted_c.dtype)\n",
    "\n",
    "    coeffs_c = np.vstack((sorted_c, zs)) - np.vstack((zs, sorted_c))\n",
    "    coeffs_c = coeffs_c[:-1]\n",
    "\n",
    "    return coeffs_c\n"
   ]
  },
  {
   "cell_type": "markdown",
   "metadata": {},
   "source": [
    "Function to create the Boolean variables "
   ]
  },
  {
   "cell_type": "code",
   "execution_count": 47,
   "metadata": {},
   "outputs": [],
   "source": [
    "\n",
    "def create_variable_matrix(C: np.array, perm: np.array):\n",
    "    y = perm[:-1]\n",
    "    y_maker = np.frompyfunc(bin_encoder, 2, 1)\n",
    "    \n",
    "    y = y_maker(y, perm.shape[0])\n",
    "    y = y.cumsum(axis=0)\n",
    "\n",
    "    return y\n"
   ]
  },
  {
   "cell_type": "markdown",
   "metadata": {},
   "source": [
    "Function to calculate the term's degree"
   ]
  },
  {
   "cell_type": "code",
   "execution_count": 48,
   "metadata": {},
   "outputs": [],
   "source": [
    "def calculate_degree(y):\n",
    "    y_bin = int2ba(y, endian=BIT_ORDER)\n",
    "    degree = y_bin.count()\n",
    "    return degree"
   ]
  },
  {
   "cell_type": "markdown",
   "metadata": {},
   "source": [
    "Function to reduce the polynomial"
   ]
  },
  {
   "cell_type": "code",
   "execution_count": 49,
   "metadata": {},
   "outputs": [],
   "source": [
    "def reduce_pbp_pandas(coeffs: np.array, variables: np.array):\n",
    "    zero_vars = np.zeros((1, variables.shape[1]), dtype=int)\n",
    "    var_flat = np.vstack([zero_vars, variables]).ravel()\n",
    "\n",
    "    df = pd.DataFrame()\n",
    "    \n",
    "    df[\"y\"] = var_flat\n",
    "    df[\"coeffs\"] = coeffs.ravel()\n",
    "        \n",
    "\n",
    "    df = df.groupby(['y'], as_index=False).agg({'y': 'first', 'coeffs': 'sum' })\n",
    "    \n",
    "    zero_coeffs = df[\"coeffs\"] == 0\n",
    "    df = df.loc[~zero_coeffs]\n",
    "\n",
    "    df[\"y_str\"] = df[\"y\"].apply(decode_var)\n",
    "\n",
    "    df[\"degree\"] = df[\"y\"].apply(calculate_degree)\n",
    "    df.sort_values(by=['degree'], inplace=True)\n",
    "    blankIndex=[''] * len(df)\n",
    "    df.index=blankIndex\n",
    "\n",
    "\n",
    "    return df"
   ]
  },
  {
   "cell_type": "markdown",
   "metadata": {},
   "source": [
    "Function to decode Boolean variables"
   ]
  },
  {
   "cell_type": "code",
   "execution_count": 50,
   "metadata": {},
   "outputs": [],
   "source": [
    "def decode_var(y):\n",
    "    bin_indices = int2ba(y, endian=BIT_ORDER)\n",
    "    y_arr  = np.frombuffer(bin_indices.unpack(), dtype=bool)\n",
    "    indices = np.nonzero(y_arr)[0]\n",
    "\n",
    "    if indices.size == 0:\n",
    "        return \"\"\n",
    "\n",
    "    return \"y\" + \"y\".join([str(i+1) for i in indices])"
   ]
  },
  {
   "cell_type": "markdown",
   "metadata": {},
   "source": [
    "Driver function to create a whole pBp"
   ]
  },
  {
   "cell_type": "code",
   "execution_count": 51,
   "metadata": {},
   "outputs": [],
   "source": [
    "def create_pbp(c: np.array):\n",
    "    assert len(c.shape) == 2\n",
    "    perm_c = create_perm(c)\n",
    "    coeffs_c = create_coeffs_matrix(c, perm_c)\n",
    "    \n",
    "    y = create_variable_matrix(c, perm_c)\n",
    "    pBp = reduce_pbp_pandas(coeffs_c, y)\n",
    "    \n",
    "    return pBp\n"
   ]
  },
  {
   "cell_type": "markdown",
   "metadata": {},
   "source": [
    "Function to truncate a pBp by a given p value"
   ]
  },
  {
   "cell_type": "code",
   "execution_count": 52,
   "metadata": {},
   "outputs": [],
   "source": [
    "def truncate_pBp(pBp, c, p):\n",
    "    cutoff = c.shape[1] - p + 1\n",
    "    truncated_pBp = pBp.loc[pBp['degree'] < p]\n",
    "    return truncated_pBp "
   ]
  },
  {
   "cell_type": "code",
   "execution_count": 53,
   "metadata": {},
   "outputs": [],
   "source": [
    "def trunc_driver(c, p_list):\n",
    "    pBp = create_pbp(c)\n",
    "    print(\"Resuls pBp\")\n",
    "    print(pBp)\n",
    "    print(\"=\" * 100)\n",
    "\n",
    "    for p in p_list:\n",
    "        truncated_pBp = truncate_pBp(pBp, c, p)\n",
    "        print(f\"p = {p}\")\n",
    "        print(truncated_pBp)\n",
    "        print(\"=\" * 100)"
   ]
  },
  {
   "cell_type": "markdown",
   "metadata": {},
   "source": [
    "Examples "
   ]
  },
  {
   "cell_type": "code",
   "execution_count": 54,
   "metadata": {},
   "outputs": [
    {
     "name": "stdout",
     "output_type": "stream",
     "text": [
      "Resuls pBp\n",
      "   y  coeffs   y_str  degree\n",
      "   0      11               0\n",
      "   1       1      y1       1\n",
      "   2       1      y2       1\n",
      "   4       4      y3       1\n",
      "   8       5      y4       1\n",
      "   3       1    y1y2       2\n",
      "   6       3    y2y3       2\n",
      "  12       4    y3y4       2\n",
      "   7       7  y1y2y3       3\n",
      "  11       4  y1y2y4       3\n",
      "  13       4  y1y3y4       3\n",
      "  14       2  y2y3y4       3\n",
      "====================================================================================================\n",
      "p = 1\n",
      "  y  coeffs y_str  degree\n",
      "  0      11             0\n",
      "====================================================================================================\n",
      "p = 2\n",
      "  y  coeffs y_str  degree\n",
      "  0      11             0\n",
      "  1       1    y1       1\n",
      "  2       1    y2       1\n",
      "  4       4    y3       1\n",
      "  8       5    y4       1\n",
      "====================================================================================================\n",
      "p = 3\n",
      "   y  coeffs y_str  degree\n",
      "   0      11             0\n",
      "   1       1    y1       1\n",
      "   2       1    y2       1\n",
      "   4       4    y3       1\n",
      "   8       5    y4       1\n",
      "   3       1  y1y2       2\n",
      "   6       3  y2y3       2\n",
      "  12       4  y3y4       2\n",
      "====================================================================================================\n"
     ]
    }
   ],
   "source": [
    "c = np.array([\n",
    "        [7, 8, 2, 10, 3],\n",
    "        [4, 12, 1, 8, 4],\n",
    "        [5, 3, 0, 6, 9],\n",
    "        [9, 6, 7, 1, 5]\n",
    "    ])\n",
    "\n",
    "trunc_driver(c, [1, 2, 3])"
   ]
  },
  {
   "cell_type": "code",
   "execution_count": 55,
   "metadata": {},
   "outputs": [
    {
     "name": "stdout",
     "output_type": "stream",
     "text": [
      "Resuls pBp\n",
      "   y  coeffs   y_str  degree\n",
      "   0      33               0\n",
      "   1       7      y1       1\n",
      "   2       2      y2       1\n",
      "   8       2      y4       1\n",
      "   3       2    y1y2       2\n",
      "   9       4    y1y4       2\n",
      "  12       8    y3y4       2\n",
      "  11      11  y1y2y4       3\n",
      "  13      10  y1y3y4       3\n",
      "  14       4  y2y3y4       3\n",
      "====================================================================================================\n",
      "p = 1\n",
      "  y  coeffs y_str  degree\n",
      "  0      33             0\n",
      "====================================================================================================\n",
      "p = 2\n",
      "  y  coeffs y_str  degree\n",
      "  0      33             0\n",
      "  1       7    y1       1\n",
      "  2       2    y2       1\n",
      "  8       2    y4       1\n",
      "====================================================================================================\n",
      "p = 3\n",
      "   y  coeffs y_str  degree\n",
      "   0      33             0\n",
      "   1       7    y1       1\n",
      "   2       2    y2       1\n",
      "   8       2    y4       1\n",
      "   3       2  y1y2       2\n",
      "   9       4  y1y4       2\n",
      "  12       8  y3y4       2\n",
      "====================================================================================================\n"
     ]
    }
   ],
   "source": [
    "c = np.array([\n",
    "        [7, 15, 10, 7, 10],\n",
    "        [10, 17, 4, 11, 22],\n",
    "        [16, 7, 6, 18, 14],\n",
    "        [11, 7, 6, 12, 8]\n",
    "    ])\n",
    "\n",
    "trunc_driver(c, [1, 2, 3])"
   ]
  },
  {
   "cell_type": "code",
   "execution_count": 56,
   "metadata": {},
   "outputs": [
    {
     "name": "stdout",
     "output_type": "stream",
     "text": [
      "Resuls pBp\n",
      "    y  coeffs           y_str  degree\n",
      "    1       6              y1       1\n",
      "    2       2              y2       1\n",
      "    4       2              y3       1\n",
      "    8       3              y4       1\n",
      "   16       3              y5       1\n",
      "  128       1              y8       1\n",
      "   64      12              y7       1\n",
      "    6       1            y2y3       2\n",
      "    9       3            y1y4       2\n",
      "   12       5            y3y4       2\n",
      "   20       1            y3y5       2\n",
      "  160       2            y6y8       2\n",
      "   13       6          y1y3y4       3\n",
      "   14       1          y2y3y4       3\n",
      "  224       8          y6y7y8       3\n",
      "  228       5        y3y6y7y8       4\n",
      "   30       1        y2y3y4y5       4\n",
      "   46       2        y2y3y4y6       4\n",
      "   15       3        y1y2y3y4       4\n",
      "   62       1      y2y3y4y5y6       5\n",
      "   47       6      y1y2y3y4y6       5\n",
      "  236       5      y3y4y6y7y8       5\n",
      "   63       1    y1y2y3y4y5y6       6\n",
      "  238       5    y2y3y4y6y7y8       6\n",
      "  191      20  y1y2y3y4y5y6y8       7\n",
      "====================================================================================================\n",
      "p = 1\n",
      "Empty DataFrame\n",
      "Columns: [y, coeffs, y_str, degree]\n",
      "Index: []\n",
      "====================================================================================================\n",
      "p = 2\n",
      "    y  coeffs y_str  degree\n",
      "    1       6    y1       1\n",
      "    2       2    y2       1\n",
      "    4       2    y3       1\n",
      "    8       3    y4       1\n",
      "   16       3    y5       1\n",
      "  128       1    y8       1\n",
      "   64      12    y7       1\n",
      "====================================================================================================\n",
      "p = 3\n",
      "    y  coeffs y_str  degree\n",
      "    1       6    y1       1\n",
      "    2       2    y2       1\n",
      "    4       2    y3       1\n",
      "    8       3    y4       1\n",
      "   16       3    y5       1\n",
      "  128       1    y8       1\n",
      "   64      12    y7       1\n",
      "    6       1  y2y3       2\n",
      "    9       3  y1y4       2\n",
      "   12       5  y3y4       2\n",
      "   20       1  y3y5       2\n",
      "  160       2  y6y8       2\n",
      "====================================================================================================\n",
      "p = 4\n",
      "    y  coeffs   y_str  degree\n",
      "    1       6      y1       1\n",
      "    2       2      y2       1\n",
      "    4       2      y3       1\n",
      "    8       3      y4       1\n",
      "   16       3      y5       1\n",
      "  128       1      y8       1\n",
      "   64      12      y7       1\n",
      "    6       1    y2y3       2\n",
      "    9       3    y1y4       2\n",
      "   12       5    y3y4       2\n",
      "   20       1    y3y5       2\n",
      "  160       2    y6y8       2\n",
      "   13       6  y1y3y4       3\n",
      "   14       1  y2y3y4       3\n",
      "  224       8  y6y7y8       3\n",
      "====================================================================================================\n",
      "p = 5\n",
      "    y  coeffs     y_str  degree\n",
      "    1       6        y1       1\n",
      "    2       2        y2       1\n",
      "    4       2        y3       1\n",
      "    8       3        y4       1\n",
      "   16       3        y5       1\n",
      "  128       1        y8       1\n",
      "   64      12        y7       1\n",
      "    6       1      y2y3       2\n",
      "    9       3      y1y4       2\n",
      "   12       5      y3y4       2\n",
      "   20       1      y3y5       2\n",
      "  160       2      y6y8       2\n",
      "   13       6    y1y3y4       3\n",
      "   14       1    y2y3y4       3\n",
      "  224       8    y6y7y8       3\n",
      "  228       5  y3y6y7y8       4\n",
      "   30       1  y2y3y4y5       4\n",
      "   46       2  y2y3y4y6       4\n",
      "   15       3  y1y2y3y4       4\n",
      "====================================================================================================\n",
      "p = 6\n",
      "    y  coeffs       y_str  degree\n",
      "    1       6          y1       1\n",
      "    2       2          y2       1\n",
      "    4       2          y3       1\n",
      "    8       3          y4       1\n",
      "   16       3          y5       1\n",
      "  128       1          y8       1\n",
      "   64      12          y7       1\n",
      "    6       1        y2y3       2\n",
      "    9       3        y1y4       2\n",
      "   12       5        y3y4       2\n",
      "   20       1        y3y5       2\n",
      "  160       2        y6y8       2\n",
      "   13       6      y1y3y4       3\n",
      "   14       1      y2y3y4       3\n",
      "  224       8      y6y7y8       3\n",
      "  228       5    y3y6y7y8       4\n",
      "   30       1    y2y3y4y5       4\n",
      "   46       2    y2y3y4y6       4\n",
      "   15       3    y1y2y3y4       4\n",
      "   62       1  y2y3y4y5y6       5\n",
      "   47       6  y1y2y3y4y6       5\n",
      "  236       5  y3y4y6y7y8       5\n",
      "====================================================================================================\n",
      "p = 7\n",
      "    y  coeffs         y_str  degree\n",
      "    1       6            y1       1\n",
      "    2       2            y2       1\n",
      "    4       2            y3       1\n",
      "    8       3            y4       1\n",
      "   16       3            y5       1\n",
      "  128       1            y8       1\n",
      "   64      12            y7       1\n",
      "    6       1          y2y3       2\n",
      "    9       3          y1y4       2\n",
      "   12       5          y3y4       2\n",
      "   20       1          y3y5       2\n",
      "  160       2          y6y8       2\n",
      "   13       6        y1y3y4       3\n",
      "   14       1        y2y3y4       3\n",
      "  224       8        y6y7y8       3\n",
      "  228       5      y3y6y7y8       4\n",
      "   30       1      y2y3y4y5       4\n",
      "   46       2      y2y3y4y6       4\n",
      "   15       3      y1y2y3y4       4\n",
      "   62       1    y2y3y4y5y6       5\n",
      "   47       6    y1y2y3y4y6       5\n",
      "  236       5    y3y4y6y7y8       5\n",
      "   63       1  y1y2y3y4y5y6       6\n",
      "  238       5  y2y3y4y6y7y8       6\n",
      "====================================================================================================\n"
     ]
    }
   ],
   "source": [
    "c = np.array([\n",
    "        [0, 4, 6, 6, 6, 0, 32, 6],\n",
    "        [12, 0, 4, 9, 4, 0, 28, 5],\n",
    "        [9, 2, 0, 3, 3, 0, 20, 3],\n",
    "        [6, 3, 2, 0, 4, 0, 24, 4],\n",
    "        [18, 4, 6, 12, 0, 0, 32, 6],\n",
    "        [15, 4, 4, 9, 5, 0, 12, 1],\n",
    "        [24, 7, 10, 18, 8, 0, 0, 3],\n",
    "        [18, 5, 6, 12, 6, 0, 12, 0]\n",
    "    ])\n",
    "\n",
    "trunc_driver(c, [1, 2, 3, 4, 5, 6, 7])"
   ]
  }
 ],
 "metadata": {
  "kernelspec": {
   "display_name": ".env",
   "language": "python",
   "name": "python3"
  },
  "language_info": {
   "codemirror_mode": {
    "name": "ipython",
    "version": 3
   },
   "file_extension": ".py",
   "mimetype": "text/x-python",
   "name": "python",
   "nbconvert_exporter": "python",
   "pygments_lexer": "ipython3",
   "version": "3.10.6"
  }
 },
 "nbformat": 4,
 "nbformat_minor": 2
}
